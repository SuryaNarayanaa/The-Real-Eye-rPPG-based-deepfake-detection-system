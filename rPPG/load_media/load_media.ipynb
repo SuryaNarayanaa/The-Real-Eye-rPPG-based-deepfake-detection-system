{
 "cells": [
  {
   "cell_type": "markdown",
   "metadata": {},
   "source": [
    "# Imports|"
   ]
  },
  {
   "cell_type": "code",
   "execution_count": 6,
   "metadata": {},
   "outputs": [],
   "source": [
    "import os\n",
    "import sys\n",
    "import cv2\n",
    "\n"
   ]
  },
  {
   "cell_type": "code",
   "execution_count": 31,
   "metadata": {},
   "outputs": [],
   "source": [
    "# Check if the file exists\n",
    "def check_file(file):\n",
    "    \"\"\"\n",
    "    Check if the file exists\n",
    "    :param file: file path\n",
    "    :return: None\n",
    "    \"\"\"\n",
    "    if not os.path.exists(file):\n",
    "        print(\"File not found: %s\" % file)\n",
    "        raise FileNotFoundError(f\"The video file at {file} does not exist.\")\n"
   ]
  },
  {
   "cell_type": "code",
   "execution_count": 32,
   "metadata": {},
   "outputs": [],
   "source": [
    "# Load the video\n",
    "def load_video(video_path):\n",
    "    \"\"\"\n",
    "    Load the video from the given path.\n",
    "    :param video_path: The path to the video file.\n",
    "    :return: The video capture object.\n",
    "    \"\"\"\n",
    "    check_file(video_path)\n",
    "    \n",
    "    cap = cv2.VideoCapture(video_path)\n",
    "    if cap.isOpened():\n",
    "        print(\"Video successfully opened.\")\n",
    "    else:\n",
    "        print(\"Error: Could not open video.\")\n",
    "    \n",
    "    return cap\n",
    "    \n"
   ]
  },
  {
   "cell_type": "code",
   "execution_count": 30,
   "metadata": {},
   "outputs": [
    {
     "name": "stdout",
     "output_type": "stream",
     "text": [
      "File not found: D:\\Hacks\\Sisyphus\\The--Eye-rPPG-based-deepfake-detection-system\\Dictators_-_Kim_Jong-Un_by_RepresentUs.webm.720p.vp9.mp4\n"
     ]
    },
    {
     "ename": "SystemExit",
     "evalue": "1",
     "output_type": "error",
     "traceback": [
      "An exception has occurred, use %tb to see the full traceback.\n",
      "\u001b[1;31mSystemExit\u001b[0m\u001b[1;31m:\u001b[0m 1\n"
     ]
    },
    {
     "name": "stderr",
     "output_type": "stream",
     "text": [
      "c:\\Users\\SURYA\\anaconda3\\envs\\sihack\\lib\\site-packages\\IPython\\core\\interactiveshell.py:3534: UserWarning: To exit: use 'exit', 'quit', or Ctrl-D.\n",
      "  warn(\"To exit: use 'exit', 'quit', or Ctrl-D.\", stacklevel=1)\n"
     ]
    }
   ],
   "source": [
    "# video_path = \"D:\\Hacks\\Sisyphus\\The--Eye-rPPG-based-deepfake-detection-system\\Dictators_-_Kim_Jong-Un_by_RepresentUs.webm.720p.vp9.mp4\"\n",
    "# cap = load_video(video_path)"
   ]
  },
  {
   "cell_type": "code",
   "execution_count": 22,
   "metadata": {},
   "outputs": [],
   "source": [
    "# display the video in a window \n",
    "def display_video(cap):\n",
    "    \"\"\"\n",
    "    Display the video in a window.\n",
    "    :args: cap: cv2.VideoCapture object\n",
    "    :returns: None\n",
    "    \"\"\"\n",
    "\n",
    "    if not cap.isOpened():\n",
    "        print(\"Error: Could not open video device\")\n",
    "    else:\n",
    "        while True:\n",
    "            ret, frame = cap.read()\n",
    "\n",
    "            if not ret:\n",
    "                print(\"Error: Can't receive frame (stream end?). Exiting ...\")\n",
    "                break\n",
    "\n",
    "        \n",
    "            cv2.imshow('Frame', frame)\n",
    "\n",
    "            if cv2.waitKey(1) & 0xFF == ord('q'):\n",
    "                break\n",
    "\n",
    "        cap.release()\n",
    "        cv2.destroyAllWindows()\n"
   ]
  },
  {
   "cell_type": "code",
   "execution_count": 23,
   "metadata": {},
   "outputs": [
    {
     "name": "stdout",
     "output_type": "stream",
     "text": [
      "Error: Can't receive frame (stream end?). Exiting ...\n"
     ]
    }
   ],
   "source": [
    "# display_video(cap)"
   ]
  },
  {
   "cell_type": "code",
   "execution_count": null,
   "metadata": {},
   "outputs": [],
   "source": []
  }
 ],
 "metadata": {
  "kernelspec": {
   "display_name": "sihack",
   "language": "python",
   "name": "python3"
  },
  "language_info": {
   "codemirror_mode": {
    "name": "ipython",
    "version": 3
   },
   "file_extension": ".py",
   "mimetype": "text/x-python",
   "name": "python",
   "nbconvert_exporter": "python",
   "pygments_lexer": "ipython3",
   "version": "3.9.19"
  }
 },
 "nbformat": 4,
 "nbformat_minor": 2
}
